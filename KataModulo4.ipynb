{
 "cells": [
  {
   "cell_type": "markdown",
   "metadata": {},
   "source": [
    "Ejercicio 1: Transformar cadenas"
   ]
  },
  {
   "cell_type": "code",
   "execution_count": 22,
   "metadata": {},
   "outputs": [
    {
     "name": "stdout",
     "output_type": "stream",
     "text": [
      "['Interesting facts about the Moon', \"The Moon is Earth's only satellite\", 'There are several interesting facts about the Moon and how it affects life here on Earth', '\\nOn average, the Moon moves 4cm away from the Earth every year', 'This yearly drift is not significant enough to cause immediate effects on Earth', 'The highest daylight temperature of the Moon is 127 C.']\n",
      "\n",
      "\n",
      "['average', 'drift', 'distance']\n",
      "\n",
      "\n",
      "* \n",
      "On average, the Moon moves 4cm away from the Earth every year\n",
      "* This yearly drift is not significant enough to cause immediate effects on Earth\n",
      "\n",
      "\n",
      "The highest daylight temperature of the Moon is 127 Celsius.\n"
     ]
    }
   ],
   "source": [
    "text = \"\"\"Interesting facts about the Moon. The Moon is Earth's only satellite. There are several interesting facts about the Moon and how it affects life here on Earth. \n",
    "On average, the Moon moves 4cm away from the Earth every year. This yearly drift is not significant enough to cause immediate effects on Earth. The highest daylight temperature of the Moon is 127 C.\"\"\"\n",
    "\n",
    "#Primero, divide el texto en cada oración para trabajar con su contenido\n",
    "\n",
    "oraciones = text.split(\". \")\n",
    "\n",
    "print(oraciones)\n",
    "\n",
    "print(\"\\n\")\n",
    "\n",
    "#Ahora, define algunas palabras clave para búsqueda que te ayudarán a determinar si una oración contiene un hecho.\n",
    "\n",
    "palabras_clave = [\"average\", \"drift\", \"distance\"]\n",
    "\n",
    "print(palabras_clave)\n",
    "\n",
    "print(\"\\n\")\n",
    "\n",
    "#Recorriendo el texto con for para imprimir solo las palabras clave\n",
    "\n",
    "for oracion in oraciones:\n",
    "    for palabra_clave in palabras_clave:\n",
    "        if(palabra_clave in oracion):\n",
    "            print(\"* \" + oracion)\n",
    "\n",
    "\n",
    "print(\"\\n\")\n",
    "\n",
    "#Ciclo for para cambiar C por Celsius en la oracion\n",
    "for oracion in oraciones:\n",
    "    if(\"C\" in oracion):\n",
    "        print(oracion.replace(\"C\",\"Celsius\"))\n",
    "    \n",
    "\n",
    "\n",
    "\n",
    "\n",
    "\n"
   ]
  },
  {
   "cell_type": "markdown",
   "metadata": {},
   "source": [
    "Ejercicio 2: Formateando Cadenas"
   ]
  },
  {
   "cell_type": "code",
   "execution_count": 18,
   "metadata": {},
   "outputs": [
    {
     "name": "stdout",
     "output_type": "stream",
     "text": [
      "\n",
      "Informacion Sobre La Gravedad En El Planeta Tierra\n",
      "--------------------------------------------------------------------------------\n",
      "Nombre del Planeta: Tierra\n",
      "El valor de la gravedad en la tierra en metros es 1.6199999999999999 m/s2\n",
      "\n"
     ]
    }
   ],
   "source": [
    "# Datos con los que vas a trabajar\n",
    "satelite = \"Luna\"\n",
    "gravedad = 0.00162 # in kms\n",
    "planeta = \"Tierra\"\n",
    "\n",
    "#Primero, crea un título para el texto. Debido a que este texto trata sobre la gravedad en la Tierra y la Luna, úsalo para crear un título significativo. Utiliza las variables en lugar de escribir.\n",
    "\n",
    "titulo = f\"Informacion sobre la gravedad en el planeta {planeta}\"\n",
    "\n",
    "guiones = f\"{'-'*80}\"\n",
    "\n",
    "plantilla = f\"\"\"\n",
    "{titulo.title()}\n",
    "{guiones}\n",
    "Nombre del Planeta: {planeta}\n",
    "El valor de la gravedad en la tierra en metros es {gravedad * 1000} m/s2\n",
    "\"\"\"\n",
    "\n",
    "print(plantilla)\n",
    "\n"
   ]
  },
  {
   "cell_type": "code",
   "execution_count": 19,
   "metadata": {},
   "outputs": [],
   "source": [
    "\n",
    "satelite = \"Ganimedes\"\n",
    "gravedad = 0.00143 # in kms\n",
    "planeta = \"Marte\""
   ]
  },
  {
   "cell_type": "code",
   "execution_count": 20,
   "metadata": {},
   "outputs": [
    {
     "name": "stdout",
     "output_type": "stream",
     "text": [
      "\n",
      "Informacion Sobre La Gravedad En El Planeta Marte\n",
      "--------------------------------------------------------------------------------\n",
      "Nombre del Planeta: Marte\n",
      "El valor de la gravedad en la tierra en metros es 1.4300000000000002 m/s2\n",
      "\n"
     ]
    }
   ],
   "source": [
    "titulo = \"informacion sobre la gravedad en el planeta {planeta}\".format(planeta = planeta)\n",
    "\n",
    "nueva_plantilla = \"\"\"\n",
    "{titulo}\n",
    "{guiones}\n",
    "Nombre del Planeta: {planeta}\n",
    "El valor de la gravedad en la tierra en metros es {gravedad} m/s2\n",
    "\"\"\"\n",
    "\n",
    "print(nueva_plantilla.format(titulo=titulo.title(), guiones = guiones, planeta = planeta, gravedad = gravedad * 1000))"
   ]
  },
  {
   "cell_type": "code",
   "execution_count": null,
   "metadata": {},
   "outputs": [],
   "source": []
  },
  {
   "cell_type": "code",
   "execution_count": 5,
   "metadata": {},
   "outputs": [
    {
     "name": "stdout",
     "output_type": "stream",
     "text": [
      "\n",
      "Informacion Sobre La Gravedad En El Planeta Tierra\n",
      "--------------------------------------------------------------------------------\n",
      "Nombre del Planeta: Tierra\n",
      "El valor de la gravedad en la tierra en metros es 1.6199999999999999 m/s2\n",
      "\n"
     ]
    }
   ],
   "source": [
    "print(plantilla)"
   ]
  }
 ],
 "metadata": {
  "interpreter": {
   "hash": "33bb5dc4cb9ffa27c05be322a671ddf067e351e4d143c30467cec42c97c1a4bd"
  },
  "kernelspec": {
   "display_name": "Python 3.9.10 64-bit (windows store)",
   "language": "python",
   "name": "python3"
  },
  "language_info": {
   "codemirror_mode": {
    "name": "ipython",
    "version": 3
   },
   "file_extension": ".py",
   "mimetype": "text/x-python",
   "name": "python",
   "nbconvert_exporter": "python",
   "pygments_lexer": "ipython3",
   "version": "3.10.2"
  },
  "orig_nbformat": 4
 },
 "nbformat": 4,
 "nbformat_minor": 2
}
