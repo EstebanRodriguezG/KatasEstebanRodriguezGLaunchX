{
 "cells": [
  {
   "cell_type": "markdown",
   "metadata": {},
   "source": [
    "Problema 1: Un asteroide se acerca..."
   ]
  },
  {
   "cell_type": "code",
   "execution_count": 5,
   "metadata": {},
   "outputs": [
    {
     "name": "stdout",
     "output_type": "stream",
     "text": [
      "Advertencia! Un Asteroide se acerca peligrosamente a una velocidad de 49km/s\n"
     ]
    }
   ],
   "source": [
    "velocidadAsteroide = 49\n",
    "velocidadRiesgo = 25\n",
    "\n",
    "if(velocidadAsteroide > velocidadRiesgo): \n",
    "    print(\"Advertencia! Un Asteroide se acerca peligrosamente a una velocidad de \" + str(velocidadAsteroide) + \"km/s\")\n",
    "\n",
    "else:\n",
    "    print(\"Sin Alerta de Asteroide!\")"
   ]
  },
  {
   "cell_type": "markdown",
   "metadata": {},
   "source": [
    "Problema 2: Asteroide Rayo de Luz..."
   ]
  },
  {
   "cell_type": "code",
   "execution_count": 8,
   "metadata": {},
   "outputs": [
    {
     "name": "stdout",
     "output_type": "stream",
     "text": [
      "Un Asteroide entro a la Atmosfera puedes ver una luz en el cielo!\n"
     ]
    }
   ],
   "source": [
    "asteroide = 20\n",
    "\n",
    "if(asteroide > 20):\n",
    "    print(\"Hay un asteroide entrando a la Atmosfera, mira al cielo!\")\n",
    "elif(asteroide == 20):\n",
    "    print(\"Un Asteroide entro a la Atmosfera puedes ver una luz en el cielo!\")\n",
    "else:\n",
    "    print(\"Cielo despejado!\")\n"
   ]
  },
  {
   "cell_type": "markdown",
   "metadata": {},
   "source": [
    "Problema 3: Alerta de Velocidad y Tamaño"
   ]
  },
  {
   "cell_type": "code",
   "execution_count": 26,
   "metadata": {},
   "outputs": [
    {
     "name": "stdout",
     "output_type": "stream",
     "text": [
      "¡Advertencia! Se acerca un Asteroide MUY peligroso a la tierra. Tamaño: 75 m - Velocidad: 50km/s\n"
     ]
    }
   ],
   "source": [
    "velAsteroide = 50\n",
    "tamAsteroide = 75\n",
    "\n",
    "if(velAsteroide > 25):\n",
    "\n",
    "    if(tamAsteroide > 25 and tamAsteroide <= 1000):\n",
    "\n",
    "        print(\"¡Advertencia! Se acerca un Asteroide MUY peligroso a la tierra. Tamaño: \" + str(tamAsteroide) + \" m - Velocidad: \" + str(velAsteroide) + \"km/s\" )\n",
    "    else:\n",
    "        print(\"Advertencia! Un Asteroide se acerca peligrosamente a una velocidad de \" + str(velAsteroide) + \"km/s\")\n",
    "\n",
    "elif(velAsteroide >= 20 ):\n",
    "\n",
    "     print(\"Un Asteroide entro a la Atmosfera puedes ver una luz en el cielo!\")\n",
    "else:\n",
    "    print(\"Cielo despejado!\")"
   ]
  }
 ],
 "metadata": {
  "interpreter": {
   "hash": "82cf8560b976b6d82cdb760e3299372075d15c13a94ec055190aaf2c353b9536"
  },
  "kernelspec": {
   "display_name": "Python 3.10.2 64-bit",
   "language": "python",
   "name": "python3"
  },
  "language_info": {
   "codemirror_mode": {
    "name": "ipython",
    "version": 3
   },
   "file_extension": ".py",
   "mimetype": "text/x-python",
   "name": "python",
   "nbconvert_exporter": "python",
   "pygments_lexer": "ipython3",
   "version": "3.10.2"
  },
  "orig_nbformat": 4
 },
 "nbformat": 4,
 "nbformat_minor": 2
}
