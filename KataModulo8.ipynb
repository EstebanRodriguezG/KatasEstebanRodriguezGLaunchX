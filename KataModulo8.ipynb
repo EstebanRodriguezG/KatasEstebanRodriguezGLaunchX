{
 "cells": [
  {
   "cell_type": "markdown",
   "metadata": {},
   "source": [
    "# Ejercicio 1: Creación de diccionarios de Python"
   ]
  },
  {
   "cell_type": "code",
   "execution_count": 6,
   "metadata": {},
   "outputs": [],
   "source": [
    "# Crea un diccionario llamado planet con los datos propuestos\n",
    "planeta = {\n",
    "    \"nombre\" : \"marte\",\n",
    "    \"lunas\": 2\n",
    "}\n"
   ]
  },
  {
   "cell_type": "code",
   "execution_count": 5,
   "metadata": {},
   "outputs": [
    {
     "name": "stdout",
     "output_type": "stream",
     "text": [
      "marte\n",
      "2\n"
     ]
    }
   ],
   "source": [
    "# Muestra el nombre del planeta y el número de lunas que tiene.\n",
    "print(planeta.get(\"nombre\"))\n",
    "print(planeta[\"lunas\"])"
   ]
  },
  {
   "cell_type": "code",
   "execution_count": 7,
   "metadata": {},
   "outputs": [],
   "source": [
    "# Agrega la clave circunferencia con los datos proporcionados previamente\n",
    "\n",
    "planeta.update(\n",
    "    {\n",
    "        \"circunferencia\": {\n",
    "            \"polar\": 6752,\n",
    "            \"equatorial\": 6792\n",
    "        } \n",
    "    }\n",
    ")"
   ]
  },
  {
   "cell_type": "code",
   "execution_count": 23,
   "metadata": {},
   "outputs": [
    {
     "name": "stdout",
     "output_type": "stream",
     "text": [
      "Nombre del Planeta:  Marte\n",
      "Circunferencia Polar de Marte:  6752\n"
     ]
    }
   ],
   "source": [
    "# Imprime el nombre del planeta con su circunferencia polar.\n",
    "\n",
    "print(\"Nombre del Planeta: \", planeta[\"nombre\"].title())\n",
    "print(f\"Circunferencia Polar de {planeta.get('nombre').title()}: \", planeta[\"circunferencia\"].get(\"polar\"))"
   ]
  },
  {
   "cell_type": "markdown",
   "metadata": {},
   "source": [
    "# Ejercicio 2: Programación dinámica con diccionarios"
   ]
  },
  {
   "cell_type": "code",
   "execution_count": 2,
   "metadata": {},
   "outputs": [],
   "source": [
    "# Planets and moons\n",
    "\n",
    "planetas_lunas = {\n",
    "    'mercury': 0,\n",
    "    'venus': 0,\n",
    "    'earth': 1,\n",
    "    'mars': 2,\n",
    "    'jupiter': 79,\n",
    "    'saturn': 82,\n",
    "    'uranus': 27,\n",
    "    'neptune': 14,\n",
    "    'pluto': 5,\n",
    "    'haumea': 2,\n",
    "    'makemake': 1,\n",
    "    'eris': 1\n",
    "}"
   ]
  },
  {
   "cell_type": "code",
   "execution_count": 4,
   "metadata": {},
   "outputs": [
    {
     "name": "stdout",
     "output_type": "stream",
     "text": [
      "dict_values([0, 0, 1, 2, 79, 82, 27, 14, 5, 2, 1, 1])\n"
     ]
    }
   ],
   "source": [
    "# Añade el código para determinar el número de lunas.\n",
    "\n",
    "lunas_values = planetas_lunas.values()\n",
    "\n",
    "print(lunas_values)"
   ]
  },
  {
   "cell_type": "code",
   "execution_count": 17,
   "metadata": {},
   "outputs": [
    {
     "name": "stdout",
     "output_type": "stream",
     "text": [
      "Total de Planetas:  12\n"
     ]
    }
   ],
   "source": [
    "# Agrega el código para contar el número de planetas. \n",
    "\n",
    "numero_de_planetas = len(lunas_values)\n",
    "\n",
    "print(\"Total de Planetas: \", numero_de_planetas)"
   ]
  },
  {
   "cell_type": "code",
   "execution_count": 18,
   "metadata": {},
   "outputs": [
    {
     "name": "stdout",
     "output_type": "stream",
     "text": [
      "El total de Lunas es:  214\n"
     ]
    }
   ],
   "source": [
    "# Contador de Lunas\n",
    "\n",
    "total_lunas = 0\n",
    "\n",
    "for luna in lunas_values:\n",
    "    total_lunas += luna\n",
    "\n",
    "print(\"El total de Lunas es: \", total_lunas)"
   ]
  },
  {
   "cell_type": "code",
   "execution_count": 21,
   "metadata": {},
   "outputs": [
    {
     "name": "stdout",
     "output_type": "stream",
     "text": [
      "El promedio de lunas por planeta es:  17.833333333333332\n"
     ]
    }
   ],
   "source": [
    "# Promedio de Lunas por planeta\n",
    "\n",
    "print(\"El promedio de lunas por planeta es: \", total_lunas / numero_de_planetas)"
   ]
  }
 ],
 "metadata": {
  "interpreter": {
   "hash": "82cf8560b976b6d82cdb760e3299372075d15c13a94ec055190aaf2c353b9536"
  },
  "kernelspec": {
   "display_name": "Python 3.10.2 64-bit",
   "language": "python",
   "name": "python3"
  },
  "language_info": {
   "codemirror_mode": {
    "name": "ipython",
    "version": 3
   },
   "file_extension": ".py",
   "mimetype": "text/x-python",
   "name": "python",
   "nbconvert_exporter": "python",
   "pygments_lexer": "ipython3",
   "version": "3.10.2"
  },
  "orig_nbformat": 4
 },
 "nbformat": 4,
 "nbformat_minor": 2
}
