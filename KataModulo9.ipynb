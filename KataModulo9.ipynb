{
 "cells": [
  {
   "cell_type": "markdown",
   "metadata": {},
   "source": [
    "# Ejercicio: Uso de funciones en Python"
   ]
  },
  {
   "cell_type": "code",
   "execution_count": 1,
   "metadata": {},
   "outputs": [],
   "source": [
    "# Función para leer 3 tanques de combustible y muestre el promedio\n",
    "\n",
    "def informe_combustible(tanque1, tanque2, tanque3):\n",
    "\n",
    "    return (tanque1 + tanque2 + tanque3) / 3\n"
   ]
  },
  {
   "cell_type": "code",
   "execution_count": 2,
   "metadata": {},
   "outputs": [
    {
     "name": "stdout",
     "output_type": "stream",
     "text": [
      "El promedio de los tanques es:  58.333333333333336\n"
     ]
    }
   ],
   "source": [
    "# Llamamos a la función que genera el reporte print(funcion(tanque1, tanque2, tanque3))\n",
    "\n",
    "print(\"El promedio de los tanques es: \", informe_combustible(50, 25, 100))"
   ]
  },
  {
   "cell_type": "code",
   "execution_count": 3,
   "metadata": {},
   "outputs": [],
   "source": [
    "# Función promedio \n",
    "\n",
    "def promedioCombustible(combustible):\n",
    "    total_tanques = 3\n",
    "    return combustible / 3\n",
    "\n"
   ]
  },
  {
   "cell_type": "code",
   "execution_count": 4,
   "metadata": {},
   "outputs": [],
   "source": [
    "# Actualiza la función\n",
    "\n",
    "def informe_combustible(tanque1, tanque2, tanque3):\n",
    "\n",
    "    return (tanque1 + tanque2 + tanque3)"
   ]
  },
  {
   "cell_type": "code",
   "execution_count": 5,
   "metadata": {},
   "outputs": [
    {
     "name": "stdout",
     "output_type": "stream",
     "text": [
      "El promedio de combustible es:  58.333333333333336\n"
     ]
    }
   ],
   "source": [
    "# Utilizando las 2 funciones\n",
    "\n",
    "print(\"El promedio de combustible es: \", promedioCombustible(informe_combustible(50, 25, 100)))"
   ]
  },
  {
   "cell_type": "markdown",
   "metadata": {},
   "source": [
    "# Ejercicio 2: Trabajo con argumentos de palabra clave"
   ]
  },
  {
   "cell_type": "code",
   "execution_count": 16,
   "metadata": {},
   "outputs": [
    {
     "name": "stdout",
     "output_type": "stream",
     "text": [
      "\n",
      "    ******************** Reporte de la Mision ********************\n",
      "    Destino: Luna\n",
      "    Tiempo de Vuelo: 120 minutos\n",
      "    Combustible: 200000 litros\n",
      "    ***************************************************************\n",
      "    \n"
     ]
    }
   ],
   "source": [
    "# Función con un informe preciso de la misión. \n",
    "# Considera hora de prelanzamiento, tiempo de vuelo, destino, tanque externo y tanque interno\n",
    "\n",
    "def reporteMision(prelanzamiento, tiempoVuelo, destino, tanqueExterno, tanqueInterno):\n",
    "    return f\"\"\"\n",
    "    {\"*\" * 20} Reporte de la Mision {\"*\" * 20}\n",
    "    Destino: {destino}\n",
    "    Tiempo de Vuelo: {prelanzamiento + tiempoVuelo} minutos\n",
    "    Combustible: {tanqueExterno + tanqueExterno} litros\n",
    "    {\"*\" * 63}\n",
    "    \"\"\"\n",
    "\n",
    "print(reporteMision(30, 90, \"Luna\", 100000, 400000))"
   ]
  },
  {
   "cell_type": "code",
   "execution_count": 19,
   "metadata": {},
   "outputs": [
    {
     "name": "stdout",
     "output_type": "stream",
     "text": [
      "\n",
      "    ******************** Reporte de la Mision ********************\n",
      "    Destino: Marte\n",
      "    Tiempo de Vuelo: 115 minutos\n",
      "    Combustible: 500000\n",
      "    ***************************************************************\n",
      "    \n"
     ]
    }
   ],
   "source": [
    "# Escribe tu nueva función de reporte considerando lo anterior\n",
    "\n",
    "def reporteMision(destino, *etapas, **tanques):\n",
    "\n",
    "    tiempo = sum(etapas)\n",
    "    combustible = sum(tanques.values())\n",
    "\n",
    "    return f\"\"\"\n",
    "    {\"*\" * 20} Reporte de la Mision {\"*\" * 20}\n",
    "    Destino: {destino}\n",
    "    Tiempo de Vuelo: {tiempo} minutos\n",
    "    Combustible: {combustible}\n",
    "    {\"*\" * 63}\n",
    "    \"\"\"\n",
    "\n",
    "print(reporteMision(\"Marte\", 50, 20, 45, tanquePrincipal=300000, tanqueReserva=200000))"
   ]
  },
  {
   "cell_type": "code",
   "execution_count": 41,
   "metadata": {},
   "outputs": [
    {
     "name": "stdout",
     "output_type": "stream",
     "text": [
      "\n",
      "    ******************** Reporte de la Mision ********************\n",
      "    Destino: Marte\n",
      "    Tiempo de Vuelo: 60 minutos\n",
      "    Combustible: 510000\n",
      "    Informe Combustible:\n",
      "\tTanque Principal: 300000 litros disponibles\n",
      "\tTanque Reserva: 200000 litros disponibles\n",
      "\tTanque Emergencia: 10000 litros disponibles\n",
      "\n",
      "    ***************************************************************\n",
      "    \n"
     ]
    }
   ],
   "source": [
    "# Escribe tu nueva función\n",
    "\n",
    "def reporteMision(destino, *etapas, **tanques):\n",
    "\n",
    "    tiempo = sum(etapas)\n",
    "    combustible = sum(tanques.values())\n",
    "\n",
    "    nombres_tanques = list(tanques.keys())\n",
    "\n",
    "    \n",
    "    i = 0\n",
    "    datos_tanques = \"Informe Combustible:\\n\"\n",
    "    for tanque in tanques.values():\n",
    "        datos_tanques += \"\\tTanque \" + nombres_tanques[i] + \": \" + str(tanque) + \" litros disponibles\\n\"\n",
    "        i+=1\n",
    "\n",
    "    return f\"\"\"\n",
    "    {\"*\" * 20} Reporte de la Mision {\"*\" * 20}\n",
    "    Destino: {destino}\n",
    "    Tiempo de Vuelo: {tiempo} minutos\n",
    "    Combustible: {combustible}\n",
    "    {datos_tanques}\n",
    "    {\"*\" * 63}\n",
    "    \"\"\"\n",
    "    \n",
    "\n",
    "print(reporteMision(\"Marte\", 10, 20, 30, Principal=300000, Reserva=200000, Emergencia=10000))"
   ]
  }
 ],
 "metadata": {
  "interpreter": {
   "hash": "82cf8560b976b6d82cdb760e3299372075d15c13a94ec055190aaf2c353b9536"
  },
  "kernelspec": {
   "display_name": "Python 3.10.2 64-bit",
   "language": "python",
   "name": "python3"
  },
  "language_info": {
   "codemirror_mode": {
    "name": "ipython",
    "version": 3
   },
   "file_extension": ".py",
   "mimetype": "text/x-python",
   "name": "python",
   "nbconvert_exporter": "python",
   "pygments_lexer": "ipython3",
   "version": "3.10.2"
  },
  "orig_nbformat": 4
 },
 "nbformat": 4,
 "nbformat_minor": 2
}
