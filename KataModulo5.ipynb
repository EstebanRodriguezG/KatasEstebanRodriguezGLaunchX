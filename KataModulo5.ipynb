{
 "cells": [
  {
   "cell_type": "markdown",
   "metadata": {},
   "source": [
    "Ejercicio1 - Utilizar operadores aritméticos\n",
    "\n",
    "Operadores aritméticos en Python"
   ]
  },
  {
   "cell_type": "code",
   "execution_count": 8,
   "metadata": {},
   "outputs": [
    {
     "name": "stdout",
     "output_type": "stream",
     "text": [
      "Distancia en KM: 628949330 Km\n",
      "Distancia en Millas: 390577534 mi\n"
     ]
    }
   ],
   "source": [
    "# Crear variables para almacenar las dos distancias\n",
    "\n",
    "distancia_tierra = 149597870\n",
    "distancia_jupiter = 778547200\n",
    "\n",
    "# Calcular la distancia entre planetas\n",
    "distanciaKM = abs(distancia_tierra - distancia_jupiter)\n",
    "\n",
    "print(f\"Distancia en KM: {distanciaKM} Km\")\n",
    "\n",
    "# Convertir de KM a Millas\n",
    "distanciaMillas = distanciaKM * 0.621\n",
    "\n",
    "print(f\"Distancia en Millas: {round(distanciaMillas)} mi\")\n"
   ]
  },
  {
   "cell_type": "markdown",
   "metadata": {},
   "source": [
    "Ejercicio 2: convierte cadenas en números y usa valores absolutos\n",
    "\n",
    "Crear una aplicación para trabajar con números y entrada de usuario"
   ]
  },
  {
   "cell_type": "code",
   "execution_count": 9,
   "metadata": {},
   "outputs": [
    {
     "name": "stdout",
     "output_type": "stream",
     "text": [
      "La Distancia entre los planetas es: 629000000 Km\n",
      "La Distancia entre los planetas es: 390609000 Mi\n"
     ]
    }
   ],
   "source": [
    "#Convertir a número\n",
    "\n",
    "distanciaPlaneta1 = int(input(\"Ingresa la Distancia del Sol al planeta 1:\"))\n",
    "distanciaPlaneta2 = int(input(\"ingresa la Distancia del Sol al 2do Planeta:\"))\n",
    "\n",
    "distanciaEntrePlanetas = abs(distanciaPlaneta1 - distanciaPlaneta2)\n",
    "\n",
    "print(f\"La Distancia entre los planetas es: {distanciaEntrePlanetas} Km\")\n",
    "\n",
    "# Convertir de KM a Millas\n",
    "distanciaM = abs(round(distanciaEntrePlanetas * 0.621))\n",
    "\n",
    "print(f\"La Distancia entre los planetas es: {distanciaM} Mi\")"
   ]
  }
 ],
 "metadata": {
  "interpreter": {
   "hash": "82cf8560b976b6d82cdb760e3299372075d15c13a94ec055190aaf2c353b9536"
  },
  "kernelspec": {
   "display_name": "Python 3.10.2 64-bit",
   "language": "python",
   "name": "python3"
  },
  "language_info": {
   "codemirror_mode": {
    "name": "ipython",
    "version": 3
   },
   "file_extension": ".py",
   "mimetype": "text/x-python",
   "name": "python",
   "nbconvert_exporter": "python",
   "pygments_lexer": "ipython3",
   "version": "3.10.2"
  },
  "orig_nbformat": 4
 },
 "nbformat": 4,
 "nbformat_minor": 2
}
